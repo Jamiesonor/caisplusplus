{
 "cells": [
  {
   "cell_type": "code",
   "execution_count": 1,
   "metadata": {},
   "outputs": [
    {
     "name": "stderr",
     "output_type": "stream",
     "text": [
      "c:\\caisplusplus\\env\\lib\\site-packages\\tensorflow\\python\\framework\\dtypes.py:516: FutureWarning: Passing (type, 1) or '1type' as a synonym of type is deprecated; in a future version of numpy, it will be understood as (type, (1,)) / '(1,)type'.\n",
      "  _np_qint8 = np.dtype([(\"qint8\", np.int8, 1)])\n",
      "c:\\caisplusplus\\env\\lib\\site-packages\\tensorflow\\python\\framework\\dtypes.py:517: FutureWarning: Passing (type, 1) or '1type' as a synonym of type is deprecated; in a future version of numpy, it will be understood as (type, (1,)) / '(1,)type'.\n",
      "  _np_quint8 = np.dtype([(\"quint8\", np.uint8, 1)])\n",
      "c:\\caisplusplus\\env\\lib\\site-packages\\tensorflow\\python\\framework\\dtypes.py:518: FutureWarning: Passing (type, 1) or '1type' as a synonym of type is deprecated; in a future version of numpy, it will be understood as (type, (1,)) / '(1,)type'.\n",
      "  _np_qint16 = np.dtype([(\"qint16\", np.int16, 1)])\n",
      "c:\\caisplusplus\\env\\lib\\site-packages\\tensorflow\\python\\framework\\dtypes.py:519: FutureWarning: Passing (type, 1) or '1type' as a synonym of type is deprecated; in a future version of numpy, it will be understood as (type, (1,)) / '(1,)type'.\n",
      "  _np_quint16 = np.dtype([(\"quint16\", np.uint16, 1)])\n",
      "c:\\caisplusplus\\env\\lib\\site-packages\\tensorflow\\python\\framework\\dtypes.py:520: FutureWarning: Passing (type, 1) or '1type' as a synonym of type is deprecated; in a future version of numpy, it will be understood as (type, (1,)) / '(1,)type'.\n",
      "  _np_qint32 = np.dtype([(\"qint32\", np.int32, 1)])\n",
      "c:\\caisplusplus\\env\\lib\\site-packages\\tensorflow\\python\\framework\\dtypes.py:525: FutureWarning: Passing (type, 1) or '1type' as a synonym of type is deprecated; in a future version of numpy, it will be understood as (type, (1,)) / '(1,)type'.\n",
      "  np_resource = np.dtype([(\"resource\", np.ubyte, 1)])\n",
      "c:\\caisplusplus\\env\\lib\\site-packages\\tensorboard\\compat\\tensorflow_stub\\dtypes.py:541: FutureWarning: Passing (type, 1) or '1type' as a synonym of type is deprecated; in a future version of numpy, it will be understood as (type, (1,)) / '(1,)type'.\n",
      "  _np_qint8 = np.dtype([(\"qint8\", np.int8, 1)])\n",
      "c:\\caisplusplus\\env\\lib\\site-packages\\tensorboard\\compat\\tensorflow_stub\\dtypes.py:542: FutureWarning: Passing (type, 1) or '1type' as a synonym of type is deprecated; in a future version of numpy, it will be understood as (type, (1,)) / '(1,)type'.\n",
      "  _np_quint8 = np.dtype([(\"quint8\", np.uint8, 1)])\n",
      "c:\\caisplusplus\\env\\lib\\site-packages\\tensorboard\\compat\\tensorflow_stub\\dtypes.py:543: FutureWarning: Passing (type, 1) or '1type' as a synonym of type is deprecated; in a future version of numpy, it will be understood as (type, (1,)) / '(1,)type'.\n",
      "  _np_qint16 = np.dtype([(\"qint16\", np.int16, 1)])\n",
      "c:\\caisplusplus\\env\\lib\\site-packages\\tensorboard\\compat\\tensorflow_stub\\dtypes.py:544: FutureWarning: Passing (type, 1) or '1type' as a synonym of type is deprecated; in a future version of numpy, it will be understood as (type, (1,)) / '(1,)type'.\n",
      "  _np_quint16 = np.dtype([(\"quint16\", np.uint16, 1)])\n",
      "c:\\caisplusplus\\env\\lib\\site-packages\\tensorboard\\compat\\tensorflow_stub\\dtypes.py:545: FutureWarning: Passing (type, 1) or '1type' as a synonym of type is deprecated; in a future version of numpy, it will be understood as (type, (1,)) / '(1,)type'.\n",
      "  _np_qint32 = np.dtype([(\"qint32\", np.int32, 1)])\n",
      "c:\\caisplusplus\\env\\lib\\site-packages\\tensorboard\\compat\\tensorflow_stub\\dtypes.py:550: FutureWarning: Passing (type, 1) or '1type' as a synonym of type is deprecated; in a future version of numpy, it will be understood as (type, (1,)) / '(1,)type'.\n",
      "  np_resource = np.dtype([(\"resource\", np.ubyte, 1)])\n"
     ]
    }
   ],
   "source": [
    "# In this micro-project, we'll practice using Jupyter Notebook on the server to design a CNN for\n",
    "# MNIST image classification and train it using the GPUs.\n",
    "\n",
    "# Imports various libraries (note that we are using tf.Keras, not vanilla Keras).\n",
    "from tensorflow import keras\n",
    "from tensorflow.keras.datasets import mnist\n",
    "import tensorflow.keras.backend as K\n",
    "import matplotlib.pyplot as plt"
   ]
  },
  {
   "cell_type": "code",
   "execution_count": 2,
   "metadata": {},
   "outputs": [
    {
     "name": "stdout",
     "output_type": "stream",
     "text": [
      "Downloading data from https://storage.googleapis.com/tensorflow/tf-keras-datasets/mnist.npz\n",
      "11493376/11490434 [==============================] - 1s 0us/step\n"
     ]
    }
   ],
   "source": [
    "# Loads the MNIST dataset.\n",
    "(x_train, y_train), (x_test, y_test) = mnist.load_data()"
   ]
  },
  {
   "cell_type": "code",
   "execution_count": 3,
   "metadata": {},
   "outputs": [
    {
     "data": {
      "text/plain": [
       "<matplotlib.image.AxesImage at 0x17656f4d888>"
      ]
     },
     "execution_count": 3,
     "metadata": {},
     "output_type": "execute_result"
    },
    {
     "data": {
      "image/png": "[encoded data removed]",
      "text/plain": [
       "<Figure size 432x288 with 1 Axes>"
      ]
     },
     "metadata": {
      "needs_background": "light"
     },
     "output_type": "display_data"
    }
   ],
   "source": [
    "# Plots an MNIST digit.\n",
    "plt.title(\"Label is {}\".format(y_train[0]))\n",
    "plt.imshow(x_train[0], cmap=\"gray\")"
   ]
  },
  {
   "cell_type": "code",
   "execution_count": 4,
   "metadata": {},
   "outputs": [
    {
     "name": "stdout",
     "output_type": "stream",
     "text": [
      "(60000, 28, 28) (10000, 28, 28)\n",
      "(60000, 28, 28, 1) (10000, 28, 28, 1)\n"
     ]
    }
   ],
   "source": [
    "# Preprocesses images.\n",
    "print(x_train.shape, x_test.shape)\n",
    "\n",
    "# Adds an extra dimension to the image tensor.\n",
    "# This represents the \"channels\" of the image.\n",
    "# BW images have one channel; RGB images have three.\n",
    "x_train = x_train.reshape(60000, 28, 28, 1)\n",
    "x_test = x_test.reshape(10000, 28, 28, 1)\n",
    "\n",
    "# Converts the tensors from uint8 to float32.\n",
    "# Most CNNs expect inputs of type float32.\n",
    "x_train = x_train.astype(\"float32\")\n",
    "x_test = x_test.astype(\"float32\")\n",
    "\n",
    "# Scales values to be between 0 and 1.\n",
    "x_train /= 255\n",
    "x_test /= 255\n",
    "\n",
    "print(x_train.shape, x_test.shape)"
   ]
  },
  {
   "cell_type": "code",
   "execution_count": 5,
   "metadata": {},
   "outputs": [
    {
     "name": "stdout",
     "output_type": "stream",
     "text": [
      "(60000,) (10000,)\n",
      "(60000, 10) (10000, 10)\n"
     ]
    }
   ],
   "source": [
    "# Preprocesses labels.\n",
    "print(y_train.shape, y_test.shape)\n",
    "\n",
    "# Converts labels from numbers (e.g., 7)\n",
    "# to one-hot vectors (e.g., [0, 0, 0, 0, 0, 0, 0, 1, 0, 0]).\n",
    "\n",
    "# Q: Why is this necessary?\n",
    "# A: We can't have predictions that are in between values. Ex: if the network ouputs 2.5, this doesn't really tell us anything about what it actually predicted.\n",
    "\n",
    "y_train = keras.utils.to_categorical(y_train, num_classes=10)\n",
    "y_test = keras.utils.to_categorical(y_test, num_classes=10)\n",
    "\n",
    "print(y_train.shape, y_test.shape)"
   ]
  },
  {
   "cell_type": "code",
   "execution_count": 11,
   "metadata": {},
   "outputs": [],
   "source": [
    "# Create a function which defines a CNN. Use the tf.Keras Functional API.\n",
    "# You'll need both convolutional and dense layers, as well as a softmax activation at the end.\n",
    "# (If you're stuck on the architecture, Slack me!)\n",
    "\n",
    "# Q: What shape is the input?\n",
    "# A: (28, 28, 1)\n",
    "\n",
    "# Q: What shape is the output?\n",
    "# A: (10)\n",
    "\n",
    "# Q: Why are we using softmax (as opposed to sigmoid)?\n",
    "# A: softmax allows for multiclass classification without training multiple binary classifiers\n",
    "\n",
    "# Q: (Bonus) How is softmax calculated (in your own words)?\n",
    "# A: Compute exponential of each softmax score and then normalize it\n",
    "\n",
    "def cnn():\n",
    "    # Your architecture here!\n",
    "    model = keras.Sequential([\n",
    "        keras.layers.Conv2D(filters=64, kernel_size=5, activation='relu', padding='same', input_shape=[28, 28, 1]),\n",
    "        keras.layers.MaxPool2D(),\n",
    "        keras.layers.Conv2D(128, 3, activation='relu', padding='same'),\n",
    "        keras.layers.Conv2D(128, 3, activation='relu', padding='same'),\n",
    "        keras.layers.MaxPool2D(),\n",
    "        keras.layers.Conv2D(256, 3, activation='relu', padding='same'),\n",
    "        keras.layers.Conv2D(256, 3, activation='relu', padding='same'),\n",
    "        keras.layers.MaxPool2D(),\n",
    "        keras.layers.Flatten(),\n",
    "        keras.layers.Dense(units=128, activation='relu'),\n",
    "        keras.layers.Dropout(0.5),\n",
    "        keras.layers.Dense(units=64, activation='relu'),\n",
    "        keras.layers.Dropout(0.5),\n",
    "        keras.layers.Dense(units=10, activation='softmax'),\n",
    "    ])\n",
    "    return model\n",
    "    "
   ]
  },
  {
   "cell_type": "code",
   "execution_count": 12,
   "metadata": {},
   "outputs": [],
   "source": [
    "# Instantiate your CNN, then compile it with the Adam optimizer, categorical crossentropy loss, and accuracy metric.\n",
    "\n",
    "# Q: Why are we using categorical crossentropy loss?\n",
    "# A: Each image can only belong to one class\n",
    "\n",
    "# Q: (Bonus) How is categorical crossentropy loss calculated (in your own words)?\n",
    "# A: \n",
    "\n",
    "# Your code here!\n",
    "model = cnn()\n",
    "model.compile(optimizer='adam',\n",
    "              loss='categorical_crossentropy',\n",
    "              metrics=['accuracy'])"
   ]
  },
  {
   "cell_type": "code",
   "execution_count": 13,
   "metadata": {},
   "outputs": [
    {
     "name": "stdout",
     "output_type": "stream",
     "text": [
      "Epoch 1/20\n",
      "60000/60000 [==============================] - 15s 243us/sample - loss: 0.3513 - acc: 0.8936\n",
      "Epoch 2/20\n",
      "60000/60000 [==============================] - 14s 235us/sample - loss: 0.1083 - acc: 0.9752\n",
      "Epoch 3/20\n",
      "60000/60000 [==============================] - 14s 237us/sample - loss: 0.0826 - acc: 0.9823\n",
      "Epoch 4/20\n",
      "60000/60000 [==============================] - 14s 238us/sample - loss: 0.0698 - acc: 0.9845\n",
      "Epoch 5/20\n",
      "60000/60000 [==============================] - 14s 237us/sample - loss: 0.0628 - acc: 0.9859\n",
      "Epoch 6/20\n",
      "60000/60000 [==============================] - 14s 236us/sample - loss: 0.0558 - acc: 0.9870\n",
      "Epoch 7/20\n",
      "60000/60000 [==============================] - 14s 239us/sample - loss: 0.0492 - acc: 0.9887\n",
      "Epoch 8/20\n",
      "60000/60000 [==============================] - 14s 236us/sample - loss: 0.0519 - acc: 0.9880\n",
      "Epoch 9/20\n",
      "60000/60000 [==============================] - 14s 235us/sample - loss: 0.0549 - acc: 0.9880\n",
      "Epoch 10/20\n",
      "60000/60000 [==============================] - 14s 240us/sample - loss: 0.0520 - acc: 0.9896\n",
      "Epoch 11/20\n",
      "60000/60000 [==============================] - 14s 240us/sample - loss: 0.0488 - acc: 0.9898\n",
      "Epoch 12/20\n",
      "60000/60000 [==============================] - 15s 243us/sample - loss: 0.0525 - acc: 0.9894\n",
      "Epoch 13/20\n",
      "60000/60000 [==============================] - 14s 240us/sample - loss: 0.0417 - acc: 0.9906\n",
      "Epoch 14/20\n",
      "60000/60000 [==============================] - 14s 238us/sample - loss: 0.0442 - acc: 0.9905\n",
      "Epoch 15/20\n",
      "60000/60000 [==============================] - 14s 239us/sample - loss: 0.0533 - acc: 0.9893\n",
      "Epoch 16/20\n",
      "60000/60000 [==============================] - 14s 238us/sample - loss: 0.0447 - acc: 0.9904\n",
      "Epoch 17/20\n",
      "60000/60000 [==============================] - 14s 240us/sample - loss: 0.0400 - acc: 0.9915\n",
      "Epoch 18/20\n",
      "60000/60000 [==============================] - 14s 241us/sample - loss: 0.0510 - acc: 0.9900\n",
      "Epoch 19/20\n",
      "60000/60000 [==============================] - 15s 243us/sample - loss: 0.0444 - acc: 0.9906\n",
      "Epoch 20/20\n",
      "60000/60000 [==============================] - 15s 244us/sample - loss: 0.0453 - acc: 0.9910\n"
     ]
    },
    {
     "data": {
      "text/plain": [
       "<tensorflow.python.keras.callbacks.History at 0x178ba9ce608>"
      ]
     },
     "execution_count": 13,
     "metadata": {},
     "output_type": "execute_result"
    }
   ],
   "source": [
    "# Fit your model for 20 epochs using the GPUs.\n",
    "\n",
    "# Q: What batch size will you use? Why?\n",
    "# A: 16, I'm not using batch normalization so my batches don't need to be too big, but I wouldn't set it >32 in any case\n",
    "\n",
    "# Your code here!\n",
    "model.fit(x_train, y_train,\n",
    "         batch_size=16,\n",
    "         epochs=20)"
   ]
  },
  {
   "cell_type": "code",
   "execution_count": 14,
   "metadata": {},
   "outputs": [
    {
     "name": "stdout",
     "output_type": "stream",
     "text": [
      "10000/10000 [==============================] - 1s 67us/sample - loss: 0.0526 - acc: 0.9918\n"
     ]
    },
    {
     "data": {
      "text/plain": [
       "[0.05262234711186256, 0.9918]"
      ]
     },
     "execution_count": 14,
     "metadata": {},
     "output_type": "execute_result"
    }
   ],
   "source": [
    "# Evaluate your model on the test dataset.\n",
    "\n",
    "# Q: Why is it necessary to separate train and test datasets?\n",
    "# A: You want to test the model on images it has never seen before.\n",
    "\n",
    "# Your code here!\n",
    "model.evaluate(x_test, y_test)"
   ]
  },
  {
   "cell_type": "code",
   "execution_count": null,
   "metadata": {},
   "outputs": [],
   "source": []
  }
 ],
 "metadata": {
  "kernelspec": {
   "display_name": "Python 3",
   "language": "python",
   "name": "python3"
  },
  "language_info": {
   "codemirror_mode": {
    "name": "ipython",
    "version": 3
   },
   "file_extension": ".py",
   "mimetype": "text/x-python",
   "name": "python",
   "nbconvert_exporter": "python",
   "pygments_lexer": "ipython3",
   "version": "3.7.4"
  }
 },
 "nbformat": 4,
 "nbformat_minor": 2
}
